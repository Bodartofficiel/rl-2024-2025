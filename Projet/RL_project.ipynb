{
 "cells": [
  {
   "cell_type": "markdown",
   "metadata": {},
   "source": [
    "L'équipe pour réaliser ce projet est constituée de : Thomas Bodart, Maceo Duriez et Marc-César Garcia-Grenet\n",
    "\n",
    "Vous trouverez ci-dessous les deux configurations (continuous_actions et stable_baselines) que nous avons retenues pour le projet."
   ]
  },
  {
   "cell_type": "code",
   "execution_count": 164,
   "metadata": {},
   "outputs": [],
   "source": [
    "from IPython.display import clear_output\n",
    "import matplotlib.pyplot as plt\n",
    "import gymnasium as gym\n",
    "import numpy as np\n",
    "from tqdm import tqdm\n",
    "from collections import Counter\n",
    "import highway_env\n",
    "import torch\n",
    "import torch.nn as nn\n",
    "from copy import deepcopy\n",
    "from collections import deque\n",
    "import random"
   ]
  },
  {
   "cell_type": "code",
   "execution_count": 165,
   "metadata": {},
   "outputs": [],
   "source": [
    "%matplotlib inline\n",
    "def run_one_episode(env, agent, display=True):\n",
    "    display_env = deepcopy(env)\n",
    "    done = False\n",
    "    state, _ = display_env.reset()\n",
    "\n",
    "    rewards = 0\n",
    "\n",
    "    while not done:\n",
    "        action = agent.get_action(state, epsilon=0)\n",
    "        state, reward, terminated, truncated, _ = display_env.step(action)\n",
    "        done = terminated or truncated\n",
    "        rewards += reward\n",
    "        if display: \n",
    "            clear_output(wait=True)\n",
    "            plt.imshow(display_env.render())\n",
    "            plt.show()\n",
    "    if display:\n",
    "        display_env.close()\n",
    "    print(f'total episode reward {rewards}')\n",
    "\n",
    "def eval_agent(agent, env, n_sim=10):\n",
    "    \"\"\"    \n",
    "    Monte Carlo evaluation of the agent.\n",
    "\n",
    "    Repeat n_sim times:\n",
    "        * Run the agent policy until the environment reaches a terminal state (= one episode)\n",
    "        * Compute the sum of rewards in this episode\n",
    "        * Store the sum of rewards in the episode_rewards array.\n",
    "    \"\"\"\n",
    "    env_copy = deepcopy(env)\n",
    "    episode_rewards = np.zeros(n_sim)\n",
    "    for i in range(n_sim):\n",
    "        state, _ = env_copy.reset()\n",
    "        reward_sum = 0\n",
    "        done = False\n",
    "        while not done: \n",
    "            action = agent.get_action(state, epsilon=0)\n",
    "            state, reward, terminated, truncated, _ = env_copy.step(action)\n",
    "            reward_sum += reward\n",
    "            done = terminated or truncated\n",
    "        episode_rewards[i] = reward_sum\n",
    "    return episode_rewards\n",
    "\n",
    "class RandomAgent: \n",
    "    def __init__(self, observation_space, action_space):\n",
    "        self.action_space = action_space\n",
    "        return\n",
    "    \n",
    "    def get_action(self, state, **kwargs):\n",
    "        return self.action_space.sample()\n",
    "    \n",
    "    def update(self):\n",
    "        pass"
   ]
  },
  {
   "cell_type": "markdown",
   "metadata": {},
   "source": [
    "Some utilities functions: train, curves"
   ]
  },
  {
   "cell_type": "code",
   "execution_count": 166,
   "metadata": {},
   "outputs": [],
   "source": [
    "def train(env, agent, N_episodes, eval_every=100, reward_threshold=300, n_eval=10, save_model=False):\n",
    "    total_time = 0\n",
    "    all_rewards = []\n",
    "    all_lengths = []\n",
    "    eval_rewards = []\n",
    "    \n",
    "    for ep in tqdm(range(N_episodes), desc=\"Training...\"):\n",
    "        done = False\n",
    "        state, _ = env.reset()\n",
    "        ep_reward = 0\n",
    "        steps = 0\n",
    "\n",
    "        while not done: \n",
    "            action = agent.get_action(state)\n",
    "            next_state, reward, terminated, truncated, _ = env.step(action)\n",
    "            \n",
    "            agent.store_transition(state, action, reward, next_state, terminated)\n",
    "            agent.update()\n",
    "\n",
    "            state = next_state\n",
    "            done = terminated or truncated\n",
    "\n",
    "            ep_reward += reward\n",
    "            steps += 1\n",
    "            total_time += 1\n",
    "\n",
    "        all_rewards.append(ep_reward)\n",
    "        all_lengths.append(steps)\n",
    "\n",
    "        if (ep + 1) % eval_every == 0:\n",
    "            mean_eval_reward = np.mean(eval_agent(agent, env, n_sim=n_eval))\n",
    "            eval_rewards.append((ep + 1, mean_eval_reward))\n",
    "            print(f\"[Episode {ep+1}] Eval reward: {mean_eval_reward:.2f} | Train reward: {ep_reward:.2f} | Steps: {steps}\")\n",
    "            \n",
    "            if save_model:\n",
    "                torch.save(agent.policy_net.state_dict(), f\"model_ep{ep+1}.pt\")\n",
    "\n",
    "            if mean_eval_reward >= reward_threshold:\n",
    "                print(\"Reward threshold reached! Stopping early.\")\n",
    "                break\n",
    "\n",
    "    print(\"\\n Training complete.\")\n",
    "    _plot_training_curves(all_rewards, eval_rewards)\n",
    "    return all_rewards, eval_rewards, all_lengths\n",
    "\n",
    "\n",
    "def _plot_training_curves(all_rewards, eval_rewards):\n",
    "    plt.figure(figsize=(12, 5))\n",
    "\n",
    "    # Smoothed training reward\n",
    "    smoothed_rewards = np.convolve(all_rewards, np.ones(10) / 10, mode='valid')\n",
    "    plt.plot(smoothed_rewards, label='Train Reward (smoothed)', alpha=0.7)\n",
    "\n",
    "    if eval_rewards:\n",
    "        eval_eps, eval_vals = zip(*eval_rewards)\n",
    "        plt.plot(eval_eps, eval_vals, 'o-', label='Eval Reward', color='red')\n",
    "\n",
    "    plt.xlabel('Episode')\n",
    "    plt.ylabel('Reward')\n",
    "    plt.title('Training and Evaluation Reward Over Time')\n",
    "    plt.legend()\n",
    "    plt.grid(True)\n",
    "    plt.tight_layout()\n",
    "    plt.show()"
   ]
  },
  {
   "cell_type": "markdown",
   "metadata": {},
   "source": [
    "# Task 1: Pre-specified environment\n",
    "Let us first define the environment"
   ]
  },
  {
   "cell_type": "code",
   "execution_count": 167,
   "metadata": {},
   "outputs": [
    {
     "data": {
      "image/png": "[encoded data removed]",
      "text/plain": [
       "<Figure size 640x480 with 1 Axes>"
      ]
     },
     "metadata": {},
     "output_type": "display_data"
    },
    {
     "name": "stdout",
     "output_type": "stream",
     "text": [
      "total episode reward 2.3078428508526816\n"
     ]
    }
   ],
   "source": [
    "\n",
    "config_dict = {\n",
    "    \"observation\": {\n",
    "        \"type\": \"OccupancyGrid\",\n",
    "        \"vehicles_count\": 10,\n",
    "        \"features\": [\"presence\", \"x\", \"y\", \"vx\", \"vy\", \"cos_h\", \"sin_h\"],\n",
    "        \"features_range\": {\n",
    "            \"x\": [-100, 100],\n",
    "            \"y\": [-100, 100],\n",
    "            \"vx\": [-20, 20],\n",
    "            \"vy\": [-20, 20],\n",
    "        },\n",
    "        \"grid_size\": [[-20, 20], [-20, 20]],\n",
    "        \"grid_step\": [5, 5],\n",
    "        \"absolute\": False,\n",
    "    },\n",
    "    \"action\": {\n",
    "        \"type\": \"DiscreteMetaAction\",\n",
    "    },\n",
    "    \"lanes_count\": 4,\n",
    "    \"vehicles_count\": 15,\n",
    "    \"duration\": 60,  # [s]\n",
    "    \"initial_spacing\": 0,\n",
    "    \"collision_reward\": -1,  # The reward received when colliding with a vehicle.\n",
    "    \"right_lane_reward\": 0.5,  # The reward received when driving on the right-most lanes, linearly mapped to\n",
    "    # zero for other lanes.\n",
    "    \"high_speed_reward\": 0.1,  # The reward received when driving at full speed, linearly mapped to zero for\n",
    "    # lower speeds according to config[\"reward_speed_range\"].\n",
    "    \"lane_change_reward\": 0,\n",
    "    \"reward_speed_range\": [\n",
    "        20,\n",
    "        30,\n",
    "    ],  # [m/s] The reward for high speed is mapped linearly from this range to [0, HighwayEnv.HIGH_SPEED_REWARD].\n",
    "    \"simulation_frequency\": 5,  # [Hz]\n",
    "    \"policy_frequency\": 1,  # [Hz]\n",
    "    \"other_vehicles_type\": \"highway_env.vehicle.behavior.IDMVehicle\",\n",
    "    \"screen_width\": 600,  # [px]\n",
    "    \"screen_height\": 150,  # [px]\n",
    "    \"centering_position\": [0.3, 0.5],\n",
    "    \"scaling\": 5.5,\n",
    "    \"show_trajectories\": True,\n",
    "    \"render_agent\": True,\n",
    "    \"offscreen_rendering\": False,\n",
    "    \"disable_collision_checks\": True,\n",
    "}\n",
    "\n",
    "env = gym.make(\"highway-fast-v0\", render_mode=\"rgb_array\", config = config_dict)\n",
    "env.reset()\n",
    "\n",
    "\n",
    "run_one_episode(env, RandomAgent(env.observation_space, env.action_space))"
   ]
  },
  {
   "cell_type": "markdown",
   "metadata": {},
   "source": [
    "## General comments on the environment\n",
    "### Observation space:\n",
    "The observation space is a 8x8 grid, with the following channels (as in image):\n",
    "- Presence: 1 if a car is here, 0 otherwise\n",
    "- x and y: relative position\n",
    "- vx, vy: relative velocities\n",
    "- cos_h, sin_h: angle\n",
    "\n",
    "### Action space:\n",
    "There is 5 possible actions:\n",
    "- IDLE: do nothing\n",
    "- LEFT: go left\n",
    "- RIGHT: go right\n",
    "- FASTER: go faster\n",
    "- SLOWER: go slower\n"
   ]
  },
  {
   "cell_type": "code",
   "execution_count": 168,
   "metadata": {},
   "outputs": [
    {
     "name": "stdout",
     "output_type": "stream",
     "text": [
      "Observation space shape:  (7, 8, 8)\n",
      "Action space shape Discrete(5)\n"
     ]
    }
   ],
   "source": [
    "print(\"Observation space shape: \", env.observation_space.shape)\n",
    "print(\"Action space shape\", env.action_space)\n"
   ]
  },
  {
   "cell_type": "markdown",
   "metadata": {},
   "source": [
    "## DQN Implementation\n",
    "### Neural Network\n",
    "Let us define the neural network for DQN. Since the observation space looks like an 8x8 image (with 7 channels), we will use CNN"
   ]
  },
  {
   "cell_type": "code",
   "execution_count": 169,
   "metadata": {},
   "outputs": [
    {
     "data": {
      "text/plain": [
       "tensor([[ 0.0074, -0.0650,  0.0230,  0.2056,  0.1279]],\n",
       "       grad_fn=<AddmmBackward0>)"
      ]
     },
     "execution_count": 169,
     "metadata": {},
     "output_type": "execute_result"
    }
   ],
   "source": [
    "class CNN(nn.Module):\n",
    "    def __init__(self, *args, **kwargs):\n",
    "        super().__init__(*args, **kwargs)\n",
    "        self.conv1 = nn.Conv2d(in_channels=7, out_channels=16, kernel_size=3, stride=1, padding=1)\n",
    "        self.ln1 = nn.LayerNorm([16, 8, 8])\n",
    "        \n",
    "        self.conv2 = nn.Conv2d(in_channels=16, out_channels=32, kernel_size=3, stride=1, padding=1)\n",
    "        self.ln2 = nn.LayerNorm([32, 8, 8])\n",
    "        \n",
    "        self.conv3 = nn.Conv2d(in_channels=32, out_channels=64, kernel_size=3, stride=1, padding=1)\n",
    "        \n",
    "        self.fc1 = nn.Linear(64 * 8 * 8, 128)\n",
    "        self.fc2 = nn.Linear(128, 5)\n",
    "\n",
    "        self.relu = nn.ReLU()\n",
    "        self.flatten = nn.Flatten()\n",
    "    \n",
    "    def forward(self, observation_space: torch.FloatTensor):\n",
    "        x = self.relu(self.ln1(self.conv1(observation_space)))\n",
    "        x = self.relu(self.ln2(self.conv2(x)))\n",
    "        x = self.relu(self.conv3(x))\n",
    "        x = self.flatten(x)\n",
    "        x = self.relu(self.fc1(x))\n",
    "        x = self.fc2(x)\n",
    "        return x\n",
    "    \n",
    "ex = torch.tensor([env.observation_space.sample()])\n",
    "model = CNN()\n",
    "model(ex)"
   ]
  },
  {
   "cell_type": "markdown",
   "metadata": {},
   "source": [
    "### Agent\n",
    "Let us now define the agent. "
   ]
  },
  {
   "cell_type": "code",
   "execution_count": null,
   "metadata": {},
   "outputs": [],
   "source": [
    "class ReplayBuffer:\n",
    "    def __init__(self, capacity=100_000):\n",
    "        self.buffer = deque(maxlen=capacity)\n",
    "\n",
    "    def push(self, *transition):\n",
    "        self.buffer.append(transition)\n",
    "\n",
    "    def sample(self, batch_size):\n",
    "        return random.sample(self.buffer, batch_size)\n",
    "\n",
    "    def __len__(self):\n",
    "        return len(self.buffer)\n",
    "\n",
    "\n",
    "class DQNAgent:\n",
    "    def __init__(\n",
    "        self,\n",
    "        action_space,\n",
    "        observation_space,\n",
    "        gamma,\n",
    "        batch_size,\n",
    "        learning_rate,\n",
    "        weight_decay,\n",
    "        model,\n",
    "        optimizer,\n",
    "        buffer_capacity\n",
    "    ):\n",
    "        self.action_space = action_space\n",
    "        self.observation_space = observation_space\n",
    "        self.n_actions = action_space.n\n",
    "        self.gamma = gamma\n",
    "        self.batch_size = batch_size\n",
    "        self.device = torch.device(\"cuda\" if torch.cuda.is_available() else \"mps\" if torch.backends.mps.is_available() else \"cpu\")\n",
    "\n",
    "        self.policy_net = model.to(self.device)\n",
    "        self.target_net = deepcopy(model).to(self.device)\n",
    "        self.target_net.eval()\n",
    "\n",
    "        self.optimizer = optimizer(self.policy_net.parameters(), lr=learning_rate, weight_decay=weight_decay)\n",
    "        self.replay_buffer = ReplayBuffer(capacity=buffer_capacity)\n",
    "\n",
    "        self.steps = 0\n",
    "        self.update_target_every = 100\n",
    "\n",
    "        self.action_counter = Counter()\n",
    "\n",
    "    def update(self):\n",
    "        if len(self.replay_buffer) < self.batch_size:\n",
    "            return\n",
    "        \n",
    "        transitions = self.replay_buffer.sample(self.batch_size)\n",
    "        states, actions, rewards, next_states, dones = zip(*transitions)\n",
    "\n",
    "        states = torch.tensor(states, device=self.device, dtype=torch.float32)\n",
    "        actions = torch.tensor(actions, device=self.device).unsqueeze(1)\n",
    "        rewards = torch.tensor(rewards, device=self.device, dtype=torch.float32).unsqueeze(1)\n",
    "        next_states = torch.tensor(next_states, device=self.device, dtype=torch.float32)\n",
    "        dones = torch.tensor(dones, device=self.device, dtype=torch.float32).unsqueeze(1)\n",
    "\n",
    "        q_values = self.policy_net(states).gather(1, actions)\n",
    "\n",
    "        with torch.no_grad():\n",
    "            next_q_values = self.target_net(next_states).max(1, keepdim=True)[0]\n",
    "            target_q_values = rewards + self.gamma * next_q_values * (1 - dones)\n",
    "\n",
    "        loss = torch.nn.functional.l1_loss(q_values, target_q_values)\n",
    "\n",
    "        self.optimizer.zero_grad()\n",
    "        loss.backward()\n",
    "        self.optimizer.step()\n",
    "\n",
    "        self.steps += 1\n",
    "        if self.steps % self.update_target_every == 0:\n",
    "            self.target_net.load_state_dict(self.policy_net.state_dict())\n",
    "\n",
    "    def store_transition(self, state, action, reward, next_state, done):\n",
    "        self.replay_buffer.push(state, action, reward, next_state, done)\n",
    "\n",
    "    def get_action(self, state, epsilon=0.1):\n",
    "        if random.random() < epsilon:\n",
    "            action = self.action_space.sample()\n",
    "            self.action_counter[action] += 1\n",
    "            return action \n",
    "\n",
    "        state_tensor = torch.tensor(state, device=self.device, dtype=torch.float32).unsqueeze(0)\n",
    "        with torch.no_grad():\n",
    "            q_values = self.policy_net(state_tensor)\n",
    "        \n",
    "        action = q_values.argmax().item()\n",
    "        self.action_counter[action] += 1\n",
    "        return action\n",
    "        \n",
    "    def reset_action_counter(self):\n",
    "        self.action_counter = Counter()\n"
   ]
  },
  {
   "cell_type": "code",
   "execution_count": null,
   "metadata": {},
   "outputs": [
    {
     "name": "stdout",
     "output_type": "stream",
     "text": [
      "mean reward before training =  37.7708726960574\n"
     ]
    },
    {
     "name": "stderr",
     "output_type": "stream",
     "text": [
      "Training...:   7%|▋         | 37/500 [00:15<03:07,  2.46it/s]\n"
     ]
    },
    {
     "ename": "KeyboardInterrupt",
     "evalue": "",
     "output_type": "error",
     "traceback": [
      "\u001b[31m---------------------------------------------------------------------------\u001b[39m",
      "\u001b[31mKeyboardInterrupt\u001b[39m                         Traceback (most recent call last)",
      "\u001b[36mCell\u001b[39m\u001b[36m \u001b[39m\u001b[32mIn[173]\u001b[39m\u001b[32m, line 29\u001b[39m\n\u001b[32m     27\u001b[39m \u001b[38;5;28mprint\u001b[39m(\u001b[33m\"\u001b[39m\u001b[33mmean reward before training = \u001b[39m\u001b[33m\"\u001b[39m, np.mean(eval_agent(agent, env, \u001b[32m10\u001b[39m)))\n\u001b[32m     28\u001b[39m \u001b[38;5;66;03m# Run the training loop\u001b[39;00m\n\u001b[32m---> \u001b[39m\u001b[32m29\u001b[39m \u001b[43mtrain\u001b[49m\u001b[43m(\u001b[49m\u001b[43menv\u001b[49m\u001b[43m,\u001b[49m\u001b[43m \u001b[49m\u001b[43magent\u001b[49m\u001b[43m,\u001b[49m\u001b[43m \u001b[49m\u001b[43mN_episodes\u001b[49m\u001b[43m,\u001b[49m\u001b[43m \u001b[49m\u001b[43meval_every\u001b[49m\u001b[43m=\u001b[49m\u001b[32;43m100\u001b[39;49m\u001b[43m,\u001b[49m\u001b[43m)\u001b[49m\n\u001b[32m     31\u001b[39m \u001b[38;5;66;03m# Evaluate the final policy\u001b[39;00m\n\u001b[32m     32\u001b[39m \u001b[38;5;28mprint\u001b[39m(\u001b[33m\"\u001b[39m\u001b[33mmean reward after training = \u001b[39m\u001b[33m\"\u001b[39m, np.mean(eval_agent(agent, env, \u001b[32m10\u001b[39m)))\n",
      "\u001b[36mCell\u001b[39m\u001b[36m \u001b[39m\u001b[32mIn[166]\u001b[39m\u001b[32m, line 18\u001b[39m, in \u001b[36mtrain\u001b[39m\u001b[34m(env, agent, N_episodes, eval_every, reward_threshold, n_eval, save_model)\u001b[39m\n\u001b[32m     15\u001b[39m next_state, reward, terminated, truncated, _ = env.step(action)\n\u001b[32m     17\u001b[39m agent.store_transition(state, action, reward, next_state, terminated)\n\u001b[32m---> \u001b[39m\u001b[32m18\u001b[39m \u001b[43magent\u001b[49m\u001b[43m.\u001b[49m\u001b[43mupdate\u001b[49m\u001b[43m(\u001b[49m\u001b[43m)\u001b[49m\n\u001b[32m     20\u001b[39m state = next_state\n\u001b[32m     21\u001b[39m done = terminated \u001b[38;5;129;01mor\u001b[39;00m truncated\n",
      "\u001b[36mCell\u001b[39m\u001b[36m \u001b[39m\u001b[32mIn[172]\u001b[39m\u001b[32m, line 54\u001b[39m, in \u001b[36mDQNAgent.update\u001b[39m\u001b[34m(self)\u001b[39m\n\u001b[32m     51\u001b[39m transitions = \u001b[38;5;28mself\u001b[39m.replay_buffer.sample(\u001b[38;5;28mself\u001b[39m.batch_size)\n\u001b[32m     52\u001b[39m states, actions, rewards, next_states, dones = \u001b[38;5;28mzip\u001b[39m(*transitions)\n\u001b[32m---> \u001b[39m\u001b[32m54\u001b[39m states = \u001b[43mtorch\u001b[49m\u001b[43m.\u001b[49m\u001b[43mtensor\u001b[49m\u001b[43m(\u001b[49m\u001b[43mstates\u001b[49m\u001b[43m,\u001b[49m\u001b[43m \u001b[49m\u001b[43mdevice\u001b[49m\u001b[43m=\u001b[49m\u001b[38;5;28;43mself\u001b[39;49m\u001b[43m.\u001b[49m\u001b[43mdevice\u001b[49m\u001b[43m,\u001b[49m\u001b[43m \u001b[49m\u001b[43mdtype\u001b[49m\u001b[43m=\u001b[49m\u001b[43mtorch\u001b[49m\u001b[43m.\u001b[49m\u001b[43mfloat32\u001b[49m\u001b[43m)\u001b[49m\n\u001b[32m     55\u001b[39m actions = torch.tensor(actions, device=\u001b[38;5;28mself\u001b[39m.device).unsqueeze(\u001b[32m1\u001b[39m)\n\u001b[32m     56\u001b[39m rewards = torch.tensor(rewards, device=\u001b[38;5;28mself\u001b[39m.device, dtype=torch.float32).unsqueeze(\u001b[32m1\u001b[39m)\n",
      "\u001b[31mKeyboardInterrupt\u001b[39m: "
     ]
    }
   ],
   "source": [
    "env = gym.make(\"highway-fast-v0\", render_mode=\"rgb_array\", config = config_dict)\n",
    "env.reset()\n",
    "\n",
    "action_space = env.action_space\n",
    "observation_space = env.observation_space\n",
    "\n",
    "gamma = .99\n",
    "episode_batch_size = 64\n",
    "learning_rate = 1e-3\n",
    "weight_decay = 0\n",
    "model=CNN()\n",
    "optimizer = torch.optim.Adam\n",
    "N_episodes = 500\n",
    "\n",
    "agent = DQNAgent(\n",
    "    action_space=action_space,\n",
    "    observation_space=observation_space,\n",
    "    gamma=gamma,\n",
    "    batch_size=episode_batch_size,\n",
    "    learning_rate=learning_rate,\n",
    "    weight_decay=weight_decay,\n",
    "    model=model,\n",
    "    optimizer=optimizer,\n",
    "    buffer_capacity=1000,\n",
    ")\n",
    "\n",
    "print(\"mean reward before training = \", np.mean(eval_agent(agent, env, 10)))\n",
    "# Run the training loop\n",
    "train(env, agent, N_episodes, eval_every=50,)\n",
    "\n",
    "# Evaluate the final policy\n",
    "print(\"mean reward after training = \", np.mean(eval_agent(agent, env, 10)))\n"
   ]
  },
  {
   "cell_type": "code",
   "execution_count": null,
   "metadata": {},
   "outputs": [
    {
     "data": {
      "image/png": "[encoded data removed]",
      "text/plain": [
       "<Figure size 640x480 with 1 Axes>"
      ]
     },
     "metadata": {},
     "output_type": "display_data"
    },
    {
     "name": "stdout",
     "output_type": "stream",
     "text": [
      "total episode reward 55.764875091613675\n",
      "Counter()\n"
     ]
    }
   ],
   "source": [
    "env.reset()\n",
    "\n",
    "agent.reset_action_counter()\n",
    "\n",
    "run_one_episode(env, agent)\n",
    "\n",
    "print(agent.action_counter)"
   ]
  },
  {
   "cell_type": "markdown",
   "metadata": {},
   "source": [
    "# Task 2:"
   ]
  },
  {
   "cell_type": "code",
   "execution_count": null,
   "metadata": {},
   "outputs": [
    {
     "ename": "KeyboardInterrupt",
     "evalue": "",
     "output_type": "error",
     "traceback": [
      "\u001b[31m---------------------------------------------------------------------------\u001b[39m",
      "\u001b[31mKeyboardInterrupt\u001b[39m                         Traceback (most recent call last)",
      "\u001b[36mCell\u001b[39m\u001b[36m \u001b[39m\u001b[32mIn[11]\u001b[39m\u001b[32m, line 41\u001b[39m\n\u001b[32m     39\u001b[39m \u001b[38;5;28;01mfor\u001b[39;00m _ \u001b[38;5;129;01min\u001b[39;00m \u001b[38;5;28mrange\u001b[39m(\u001b[32m100\u001b[39m):\n\u001b[32m     40\u001b[39m     action = env.action_space.sample()\n\u001b[32m---> \u001b[39m\u001b[32m41\u001b[39m     obs, reward, done, truncated, info = \u001b[43menv\u001b[49m\u001b[43m.\u001b[49m\u001b[43mstep\u001b[49m\u001b[43m(\u001b[49m\u001b[43maction\u001b[49m\u001b[43m)\u001b[49m\n\u001b[32m     42\u001b[39m     env.render()\n\u001b[32m     44\u001b[39m plt.imshow(env.render())\n",
      "\u001b[36mFile \u001b[39m\u001b[32m~/Desktop/CS_cours/rl-2024--2025/.venv/lib/python3.12/site-packages/gymnasium/wrappers/common.py:393\u001b[39m, in \u001b[36mOrderEnforcing.step\u001b[39m\u001b[34m(self, action)\u001b[39m\n\u001b[32m    391\u001b[39m \u001b[38;5;28;01mif\u001b[39;00m \u001b[38;5;129;01mnot\u001b[39;00m \u001b[38;5;28mself\u001b[39m._has_reset:\n\u001b[32m    392\u001b[39m     \u001b[38;5;28;01mraise\u001b[39;00m ResetNeeded(\u001b[33m\"\u001b[39m\u001b[33mCannot call env.step() before calling env.reset()\u001b[39m\u001b[33m\"\u001b[39m)\n\u001b[32m--> \u001b[39m\u001b[32m393\u001b[39m \u001b[38;5;28;01mreturn\u001b[39;00m \u001b[38;5;28;43msuper\u001b[39;49m\u001b[43m(\u001b[49m\u001b[43m)\u001b[49m\u001b[43m.\u001b[49m\u001b[43mstep\u001b[49m\u001b[43m(\u001b[49m\u001b[43maction\u001b[49m\u001b[43m)\u001b[49m\n",
      "\u001b[36mFile \u001b[39m\u001b[32m~/Desktop/CS_cours/rl-2024--2025/.venv/lib/python3.12/site-packages/gymnasium/core.py:327\u001b[39m, in \u001b[36mWrapper.step\u001b[39m\u001b[34m(self, action)\u001b[39m\n\u001b[32m    323\u001b[39m \u001b[38;5;28;01mdef\u001b[39;00m\u001b[38;5;250m \u001b[39m\u001b[34mstep\u001b[39m(\n\u001b[32m    324\u001b[39m     \u001b[38;5;28mself\u001b[39m, action: WrapperActType\n\u001b[32m    325\u001b[39m ) -> \u001b[38;5;28mtuple\u001b[39m[WrapperObsType, SupportsFloat, \u001b[38;5;28mbool\u001b[39m, \u001b[38;5;28mbool\u001b[39m, \u001b[38;5;28mdict\u001b[39m[\u001b[38;5;28mstr\u001b[39m, Any]]:\n\u001b[32m    326\u001b[39m \u001b[38;5;250m    \u001b[39m\u001b[33;03m\"\"\"Uses the :meth:`step` of the :attr:`env` that can be overwritten to change the returned data.\"\"\"\u001b[39;00m\n\u001b[32m--> \u001b[39m\u001b[32m327\u001b[39m     \u001b[38;5;28;01mreturn\u001b[39;00m \u001b[38;5;28;43mself\u001b[39;49m\u001b[43m.\u001b[49m\u001b[43menv\u001b[49m\u001b[43m.\u001b[49m\u001b[43mstep\u001b[49m\u001b[43m(\u001b[49m\u001b[43maction\u001b[49m\u001b[43m)\u001b[49m\n",
      "\u001b[36mFile \u001b[39m\u001b[32m~/Desktop/CS_cours/rl-2024--2025/.venv/lib/python3.12/site-packages/gymnasium/wrappers/common.py:285\u001b[39m, in \u001b[36mPassiveEnvChecker.step\u001b[39m\u001b[34m(self, action)\u001b[39m\n\u001b[32m    283\u001b[39m     \u001b[38;5;28;01mreturn\u001b[39;00m env_step_passive_checker(\u001b[38;5;28mself\u001b[39m.env, action)\n\u001b[32m    284\u001b[39m \u001b[38;5;28;01melse\u001b[39;00m:\n\u001b[32m--> \u001b[39m\u001b[32m285\u001b[39m     \u001b[38;5;28;01mreturn\u001b[39;00m \u001b[38;5;28;43mself\u001b[39;49m\u001b[43m.\u001b[49m\u001b[43menv\u001b[49m\u001b[43m.\u001b[49m\u001b[43mstep\u001b[49m\u001b[43m(\u001b[49m\u001b[43maction\u001b[49m\u001b[43m)\u001b[49m\n",
      "\u001b[36mFile \u001b[39m\u001b[32m~/Desktop/CS_cours/rl-2024--2025/.venv/lib/python3.12/site-packages/highway_env/envs/common/abstract.py:240\u001b[39m, in \u001b[36mAbstractEnv.step\u001b[39m\u001b[34m(self, action)\u001b[39m\n\u001b[32m    235\u001b[39m     \u001b[38;5;28;01mraise\u001b[39;00m \u001b[38;5;167;01mNotImplementedError\u001b[39;00m(\n\u001b[32m    236\u001b[39m         \u001b[33m\"\u001b[39m\u001b[33mThe road and vehicle must be initialized in the environment implementation\u001b[39m\u001b[33m\"\u001b[39m\n\u001b[32m    237\u001b[39m     )\n\u001b[32m    239\u001b[39m \u001b[38;5;28mself\u001b[39m.time += \u001b[32m1\u001b[39m / \u001b[38;5;28mself\u001b[39m.config[\u001b[33m\"\u001b[39m\u001b[33mpolicy_frequency\u001b[39m\u001b[33m\"\u001b[39m]\n\u001b[32m--> \u001b[39m\u001b[32m240\u001b[39m \u001b[38;5;28;43mself\u001b[39;49m\u001b[43m.\u001b[49m\u001b[43m_simulate\u001b[49m\u001b[43m(\u001b[49m\u001b[43maction\u001b[49m\u001b[43m)\u001b[49m\n\u001b[32m    242\u001b[39m obs = \u001b[38;5;28mself\u001b[39m.observation_type.observe()\n\u001b[32m    243\u001b[39m reward = \u001b[38;5;28mself\u001b[39m._reward(action)\n",
      "\u001b[36mFile \u001b[39m\u001b[32m~/Desktop/CS_cours/rl-2024--2025/.venv/lib/python3.12/site-packages/highway_env/envs/common/abstract.py:280\u001b[39m, in \u001b[36mAbstractEnv._simulate\u001b[39m\u001b[34m(self, action)\u001b[39m\n\u001b[32m    275\u001b[39m     \u001b[38;5;66;03m# Automatically render intermediate simulation steps if a viewer has been launched\u001b[39;00m\n\u001b[32m    276\u001b[39m     \u001b[38;5;66;03m# Ignored if the rendering is done offscreen\u001b[39;00m\n\u001b[32m    277\u001b[39m     \u001b[38;5;28;01mif\u001b[39;00m (\n\u001b[32m    278\u001b[39m         frame < frames - \u001b[32m1\u001b[39m\n\u001b[32m    279\u001b[39m     ):  \u001b[38;5;66;03m# Last frame will be rendered through env.render() as usual\u001b[39;00m\n\u001b[32m--> \u001b[39m\u001b[32m280\u001b[39m         \u001b[38;5;28;43mself\u001b[39;49m\u001b[43m.\u001b[49m\u001b[43m_automatic_rendering\u001b[49m\u001b[43m(\u001b[49m\u001b[43m)\u001b[49m\n\u001b[32m    282\u001b[39m \u001b[38;5;28mself\u001b[39m.enable_auto_render = \u001b[38;5;28;01mFalse\u001b[39;00m\n",
      "\u001b[36mFile \u001b[39m\u001b[32m~/Desktop/CS_cours/rl-2024--2025/.venv/lib/python3.12/site-packages/highway_env/envs/common/abstract.py:340\u001b[39m, in \u001b[36mAbstractEnv._automatic_rendering\u001b[39m\u001b[34m(self)\u001b[39m\n\u001b[32m    338\u001b[39m     \u001b[38;5;28mself\u001b[39m._record_video_wrapper.video_recorder.capture_frame()\n\u001b[32m    339\u001b[39m \u001b[38;5;28;01melse\u001b[39;00m:\n\u001b[32m--> \u001b[39m\u001b[32m340\u001b[39m     \u001b[38;5;28;43mself\u001b[39;49m\u001b[43m.\u001b[49m\u001b[43mrender\u001b[49m\u001b[43m(\u001b[49m\u001b[43m)\u001b[49m\n",
      "\u001b[36mFile \u001b[39m\u001b[32m~/Desktop/CS_cours/rl-2024--2025/.venv/lib/python3.12/site-packages/highway_env/envs/common/abstract.py:303\u001b[39m, in \u001b[36mAbstractEnv.render\u001b[39m\u001b[34m(self)\u001b[39m\n\u001b[32m    299\u001b[39m     \u001b[38;5;28mself\u001b[39m.viewer = EnvViewer(\u001b[38;5;28mself\u001b[39m)\n\u001b[32m    301\u001b[39m \u001b[38;5;28mself\u001b[39m.enable_auto_render = \u001b[38;5;28;01mTrue\u001b[39;00m\n\u001b[32m--> \u001b[39m\u001b[32m303\u001b[39m \u001b[38;5;28;43mself\u001b[39;49m\u001b[43m.\u001b[49m\u001b[43mviewer\u001b[49m\u001b[43m.\u001b[49m\u001b[43mdisplay\u001b[49m\u001b[43m(\u001b[49m\u001b[43m)\u001b[49m\n\u001b[32m    305\u001b[39m \u001b[38;5;28;01mif\u001b[39;00m \u001b[38;5;129;01mnot\u001b[39;00m \u001b[38;5;28mself\u001b[39m.viewer.offscreen:\n\u001b[32m    306\u001b[39m     \u001b[38;5;28mself\u001b[39m.viewer.handle_events()\n",
      "\u001b[36mFile \u001b[39m\u001b[32m~/Desktop/CS_cours/rl-2024--2025/.venv/lib/python3.12/site-packages/highway_env/envs/common/graphics.py:159\u001b[39m, in \u001b[36mEnvViewer.display\u001b[39m\u001b[34m(self)\u001b[39m\n\u001b[32m    157\u001b[39m     \u001b[38;5;28mself\u001b[39m.screen.blit(\u001b[38;5;28mself\u001b[39m.sim_surface, (\u001b[32m0\u001b[39m, \u001b[32m0\u001b[39m))\n\u001b[32m    158\u001b[39m     \u001b[38;5;28;01mif\u001b[39;00m \u001b[38;5;28mself\u001b[39m.env.config[\u001b[33m\"\u001b[39m\u001b[33mreal_time_rendering\u001b[39m\u001b[33m\"\u001b[39m]:\n\u001b[32m--> \u001b[39m\u001b[32m159\u001b[39m         \u001b[38;5;28;43mself\u001b[39;49m\u001b[43m.\u001b[49m\u001b[43mclock\u001b[49m\u001b[43m.\u001b[49m\u001b[43mtick\u001b[49m\u001b[43m(\u001b[49m\u001b[38;5;28;43mself\u001b[39;49m\u001b[43m.\u001b[49m\u001b[43menv\u001b[49m\u001b[43m.\u001b[49m\u001b[43mconfig\u001b[49m\u001b[43m[\u001b[49m\u001b[33;43m\"\u001b[39;49m\u001b[33;43msimulation_frequency\u001b[39;49m\u001b[33;43m\"\u001b[39;49m\u001b[43m]\u001b[49m\u001b[43m)\u001b[49m\n\u001b[32m    160\u001b[39m     pygame.display.flip()\n\u001b[32m    162\u001b[39m \u001b[38;5;28;01mif\u001b[39;00m \u001b[38;5;28mself\u001b[39m.SAVE_IMAGES \u001b[38;5;129;01mand\u001b[39;00m \u001b[38;5;28mself\u001b[39m.directory:\n",
      "\u001b[31mKeyboardInterrupt\u001b[39m: "
     ]
    }
   ],
   "source": [
    "racing_config = {\n",
    "    'action': {\n",
    "        'lateral': True,\n",
    "        'longitudinal': True,\n",
    "        'target_speeds': [0, 30, 50, 80],\n",
    "        'type': 'ContinuousAction'\n",
    "    },\n",
    "    'action_reward': -0.1,\n",
    "    'collision_reward': -5,\n",
    "    'controlled_vehicles': 1,\n",
    "    'duration': 1200,\n",
    "    'lane_centering_cost': 1,\n",
    "    'lane_centering_reward': 0.1,\n",
    "    'manual_control': False,\n",
    "    'observation': {\n",
    "        'align_to_vehicle_axes': True,\n",
    "        'as_image': False,\n",
    "        'features': ['presence', 'velocity', 'acceleration'],\n",
    "        'grid_size': [[-30, 30], [-30, 30]],\n",
    "        'grid_step': [5, 5],\n",
    "        'type': 'OccupancyGrid'\n",
    "    },\n",
    "    'offscreen_rendering': False,\n",
    "    'other_vehicles': 3, \n",
    "    'other_vehicles_type': 'highway_env.vehicle.behavior.AggressiveVehicle',\n",
    "    'policy_frequency': 5,\n",
    "    'real_time_rendering': True,\n",
    "    'render_agent': True,\n",
    "    'scaling': 6,\n",
    "    'screen_height': 800,\n",
    "    'screen_width': 1200,\n",
    "    'show_trajectories': False,\n",
    "    'simulation_frequency': 15,\n",
    "}\n",
    "\n",
    "env = gym.make(\"racetrack-v0\", render_mode=\"rgb_array\", config=racing_config)\n",
    "env.reset()\n",
    "\n",
    "for _ in range(100):\n",
    "    action = env.action_space.sample()\n",
    "    obs, reward, done, truncated, info = env.step(action)\n",
    "    env.render()\n",
    "\n",
    "plt.imshow(env.render())\n",
    "env.close()"
   ]
  },
  {
   "cell_type": "code",
   "execution_count": null,
   "metadata": {},
   "outputs": [
    {
     "ename": "AttributeError",
     "evalue": "'NoneType' object has no attribute 'get_image'",
     "output_type": "error",
     "traceback": [
      "\u001b[31m---------------------------------------------------------------------------\u001b[39m",
      "\u001b[31mAttributeError\u001b[39m                            Traceback (most recent call last)",
      "\u001b[36mCell\u001b[39m\u001b[36m \u001b[39m\u001b[32mIn[7]\u001b[39m\u001b[32m, line 40\u001b[39m\n\u001b[32m     38\u001b[39m     action = env.action_space.sample()\n\u001b[32m     39\u001b[39m     obs, reward, done, truncated, info = env.step(action)\n\u001b[32m---> \u001b[39m\u001b[32m40\u001b[39m     \u001b[43menv\u001b[49m\u001b[43m.\u001b[49m\u001b[43mrender\u001b[49m\u001b[43m(\u001b[49m\u001b[43m)\u001b[49m\n\u001b[32m     42\u001b[39m plt.imshow(env.render())\n\u001b[32m     43\u001b[39m env.close()\n",
      "\u001b[36mFile \u001b[39m\u001b[32m~/Desktop/CS_cours/rl-2024--2025/.venv/lib/python3.12/site-packages/gymnasium/wrappers/common.py:409\u001b[39m, in \u001b[36mOrderEnforcing.render\u001b[39m\u001b[34m(self)\u001b[39m\n\u001b[32m    404\u001b[39m \u001b[38;5;28;01mif\u001b[39;00m \u001b[38;5;129;01mnot\u001b[39;00m \u001b[38;5;28mself\u001b[39m._disable_render_order_enforcing \u001b[38;5;129;01mand\u001b[39;00m \u001b[38;5;129;01mnot\u001b[39;00m \u001b[38;5;28mself\u001b[39m._has_reset:\n\u001b[32m    405\u001b[39m     \u001b[38;5;28;01mraise\u001b[39;00m ResetNeeded(\n\u001b[32m    406\u001b[39m         \u001b[33m\"\u001b[39m\u001b[33mCannot call `env.render()` before calling `env.reset()`, if this is an intended action, \u001b[39m\u001b[33m\"\u001b[39m\n\u001b[32m    407\u001b[39m         \u001b[33m\"\u001b[39m\u001b[33mset `disable_render_order_enforcing=True` on the OrderEnforcer wrapper.\u001b[39m\u001b[33m\"\u001b[39m\n\u001b[32m    408\u001b[39m     )\n\u001b[32m--> \u001b[39m\u001b[32m409\u001b[39m \u001b[38;5;28;01mreturn\u001b[39;00m \u001b[38;5;28;43msuper\u001b[39;49m\u001b[43m(\u001b[49m\u001b[43m)\u001b[49m\u001b[43m.\u001b[49m\u001b[43mrender\u001b[49m\u001b[43m(\u001b[49m\u001b[43m)\u001b[49m\n",
      "\u001b[36mFile \u001b[39m\u001b[32m~/Desktop/CS_cours/rl-2024--2025/.venv/lib/python3.12/site-packages/gymnasium/core.py:337\u001b[39m, in \u001b[36mWrapper.render\u001b[39m\u001b[34m(self)\u001b[39m\n\u001b[32m    335\u001b[39m \u001b[38;5;28;01mdef\u001b[39;00m\u001b[38;5;250m \u001b[39m\u001b[34mrender\u001b[39m(\u001b[38;5;28mself\u001b[39m) -> RenderFrame | \u001b[38;5;28mlist\u001b[39m[RenderFrame] | \u001b[38;5;28;01mNone\u001b[39;00m:\n\u001b[32m    336\u001b[39m \u001b[38;5;250m    \u001b[39m\u001b[33;03m\"\"\"Uses the :meth:`render` of the :attr:`env` that can be overwritten to change the returned data.\"\"\"\u001b[39;00m\n\u001b[32m--> \u001b[39m\u001b[32m337\u001b[39m     \u001b[38;5;28;01mreturn\u001b[39;00m \u001b[38;5;28;43mself\u001b[39;49m\u001b[43m.\u001b[49m\u001b[43menv\u001b[49m\u001b[43m.\u001b[49m\u001b[43mrender\u001b[49m\u001b[43m(\u001b[49m\u001b[43m)\u001b[49m\n",
      "\u001b[36mFile \u001b[39m\u001b[32m~/Desktop/CS_cours/rl-2024--2025/.venv/lib/python3.12/site-packages/gymnasium/wrappers/common.py:303\u001b[39m, in \u001b[36mPassiveEnvChecker.render\u001b[39m\u001b[34m(self)\u001b[39m\n\u001b[32m    301\u001b[39m     \u001b[38;5;28;01mreturn\u001b[39;00m env_render_passive_checker(\u001b[38;5;28mself\u001b[39m.env)\n\u001b[32m    302\u001b[39m \u001b[38;5;28;01melse\u001b[39;00m:\n\u001b[32m--> \u001b[39m\u001b[32m303\u001b[39m     \u001b[38;5;28;01mreturn\u001b[39;00m \u001b[38;5;28;43mself\u001b[39;49m\u001b[43m.\u001b[49m\u001b[43menv\u001b[49m\u001b[43m.\u001b[49m\u001b[43mrender\u001b[49m\u001b[43m(\u001b[49m\u001b[43m)\u001b[49m\n",
      "\u001b[36mFile \u001b[39m\u001b[32m~/Desktop/CS_cours/rl-2024--2025/.venv/lib/python3.12/site-packages/highway_env/envs/common/abstract.py:308\u001b[39m, in \u001b[36mAbstractEnv.render\u001b[39m\u001b[34m(self)\u001b[39m\n\u001b[32m    306\u001b[39m     \u001b[38;5;28mself\u001b[39m.viewer.handle_events()\n\u001b[32m    307\u001b[39m \u001b[38;5;28;01mif\u001b[39;00m \u001b[38;5;28mself\u001b[39m.render_mode == \u001b[33m\"\u001b[39m\u001b[33mrgb_array\u001b[39m\u001b[33m\"\u001b[39m:\n\u001b[32m--> \u001b[39m\u001b[32m308\u001b[39m     image = \u001b[38;5;28;43mself\u001b[39;49m\u001b[43m.\u001b[49m\u001b[43mviewer\u001b[49m\u001b[43m.\u001b[49m\u001b[43mget_image\u001b[49m()\n\u001b[32m    309\u001b[39m     \u001b[38;5;28;01mreturn\u001b[39;00m image\n",
      "\u001b[31mAttributeError\u001b[39m: 'NoneType' object has no attribute 'get_image'"
     ]
    }
   ],
   "source": [
    "stablebaselines_config = {'action': {'type': 'DiscreteMetaAction'},\n",
    "'centering_position': [0.3, 0.5],\n",
    "'collision_reward': -1.0,\n",
    "'controlled_vehicles': 1,\n",
    "'duration': 45,\n",
    "'ego_spacing': 2,\n",
    "'high_speed_reward': 1.0,\n",
    "'initial_lane_id': None,\n",
    "'lane_change_reward': 0.2,\n",
    "'lanes_count': 4,\n",
    "'manual_control': False,\n",
    "'normalize_reward': True,\n",
    "'observation': {'type': 'Kinematics'},\n",
    "'offroad_terminal': False,\n",
    "'offscreen_rendering': False,\n",
    "'other_vehicles_type': 'highway_env.vehicle.behavior.AggressiveVehicle',\n",
    "'policy_frequency': 1,\n",
    "'real_time_rendering': False,\n",
    "'render_agent': True,\n",
    "'reward_speed_range': [30, 80],\n",
    "'right_lane_reward': -0.1,\n",
    "'scaling': 6.0,\n",
    "'screen_height': 300,\n",
    "'screen_width': 1200,\n",
    "'show_trajectories': False,\n",
    "'simulation_frequency': 15,\n",
    "'vehicles_count': 100,\n",
    "'vehicles_density': 2}\n",
    "\n",
    "env = gym.make(\"highway-fast-v0\", render_mode=\"rgb_array\", config=stablebaselines_config)\n",
    "env.reset()\n",
    "\n",
    "for _ in range(100):\n",
    "    action = env.action_space.sample()\n",
    "    obs, reward, done, truncated, info = env.step(action)\n",
    "    env.render()\n",
    "\n",
    "plt.imshow(env.render())\n",
    "env.close()"
   ]
  },
  {
   "cell_type": "code",
   "execution_count": null,
   "metadata": {},
   "outputs": [],
   "source": []
  }
 ],
 "metadata": {
  "kernelspec": {
   "display_name": ".venv",
   "language": "python",
   "name": "python3"
  },
  "language_info": {
   "codemirror_mode": {
    "name": "ipython",
    "version": 3
   },
   "file_extension": ".py",
   "mimetype": "text/x-python",
   "name": "python",
   "nbconvert_exporter": "python",
   "pygments_lexer": "ipython3",
   "version": "3.12.6"
  }
 },
 "nbformat": 4,
 "nbformat_minor": 2
}
